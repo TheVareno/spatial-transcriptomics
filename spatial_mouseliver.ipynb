{
 "cells": [
  {
   "cell_type": "markdown",
   "id": "3961e387-f664-4a54-ae0a-45206f9e2175",
   "metadata": {},
   "source": [
    "## Analysis of Spatial Transcriptomics \n",
    "- Author: Hadi Vareno\n",
    "- E-mail: hadivareno@gmail.com\n",
    "- Github: TheVareno"
   ]
  },
  {
   "cell_type": "code",
   "execution_count": 66,
   "id": "7bd08c22-5fea-4ef7-902a-4b631cd994de",
   "metadata": {},
   "outputs": [],
   "source": [
    "# load packages \n",
    "# NOTE use conda base environment \n",
    "# scanpy installed by pip \n",
    "\n",
    "#from spatialdata import read_zarr \n",
    "import scanpy as sc\n",
    "import anndata as ad\n",
    "import pandas as pd \n",
    "import matplotlib as plt  \n",
    "import seaborn as sns \n",
    "sns.set_style('darkgrid');"
   ]
  },
  {
   "cell_type": "code",
   "execution_count": 67,
   "id": "ebf61c46-ecc6-429f-9a43-fde91ee6e404",
   "metadata": {},
   "outputs": [],
   "source": [
    "# sc.logging.print_versions()\n",
    "# sc.set_figure_params(facecolor=\"white\", figsize=(8, 8))\n",
    "# sc.settings.verbosity = 3"
   ]
  },
  {
   "cell_type": "code",
   "execution_count": 68,
   "id": "93135819-d98d-4ebc-ad93-8178b4049cf9",
   "metadata": {},
   "outputs": [],
   "source": [
    "# read data \n",
    "adata = ad.read_zarr('../data/data.zarr/tables/table')"
   ]
  },
  {
   "cell_type": "code",
   "execution_count": null,
   "id": "a200ac82-ac53-4551-9a73-9de971b2bc94",
   "metadata": {},
   "outputs": [],
   "source": [
    "adata = sc.datasets.visium_sge(sample_id=\"V1_Human_Lymph_Node\")\n"
   ]
  },
  {
   "cell_type": "markdown",
   "id": "94ba5fc4-1535-4b86-b57e-7caaa6f9a1c9",
   "metadata": {},
   "source": [
    "### **Explore AnnData** "
   ]
  },
  {
   "cell_type": "code",
   "execution_count": 69,
   "id": "a29960fd-c776-4fc9-abb9-6a8eda6f9c75",
   "metadata": {},
   "outputs": [
    {
     "name": "stdout",
     "output_type": "stream",
     "text": [
      "<class 'scipy.sparse._csr.csr_matrix'>\n"
     ]
    }
   ],
   "source": [
    "# Gene Expression Sparse Mat! \n",
    "print(type(adata.X))  \n",
    " "
   ]
  },
  {
   "cell_type": "code",
   "execution_count": 70,
   "id": "bc214b71-d07b-403f-8584-d90c6e04fc11",
   "metadata": {},
   "outputs": [
    {
     "data": {
      "text/html": [
       "<div>\n",
       "<style scoped>\n",
       "    .dataframe tbody tr th:only-of-type {\n",
       "        vertical-align: middle;\n",
       "    }\n",
       "\n",
       "    .dataframe tbody tr th {\n",
       "        vertical-align: top;\n",
       "    }\n",
       "\n",
       "    .dataframe thead th {\n",
       "        text-align: right;\n",
       "    }\n",
       "</style>\n",
       "<table border=\"1\" class=\"dataframe\">\n",
       "  <thead>\n",
       "    <tr style=\"text-align: right;\">\n",
       "      <th></th>\n",
       "      <th>cell_ID</th>\n",
       "      <th>fov_labels</th>\n",
       "      <th>annotation</th>\n",
       "    </tr>\n",
       "  </thead>\n",
       "  <tbody>\n",
       "    <tr>\n",
       "      <th>0</th>\n",
       "      <td>18</td>\n",
       "      <td>nucleus_boundaries</td>\n",
       "      <td>Kupffer cells</td>\n",
       "    </tr>\n",
       "    <tr>\n",
       "      <th>1</th>\n",
       "      <td>19</td>\n",
       "      <td>nucleus_boundaries</td>\n",
       "      <td>Other immunecells</td>\n",
       "    </tr>\n",
       "    <tr>\n",
       "      <th>2</th>\n",
       "      <td>32</td>\n",
       "      <td>nucleus_boundaries</td>\n",
       "      <td>Hepatocytes</td>\n",
       "    </tr>\n",
       "    <tr>\n",
       "      <th>3</th>\n",
       "      <td>33</td>\n",
       "      <td>nucleus_boundaries</td>\n",
       "      <td>Fibroblast</td>\n",
       "    </tr>\n",
       "    <tr>\n",
       "      <th>4</th>\n",
       "      <td>34</td>\n",
       "      <td>nucleus_boundaries</td>\n",
       "      <td>Fibroblast</td>\n",
       "    </tr>\n",
       "  </tbody>\n",
       "</table>\n",
       "</div>"
      ],
      "text/plain": [
       "  cell_ID          fov_labels         annotation\n",
       "0      18  nucleus_boundaries      Kupffer cells\n",
       "1      19  nucleus_boundaries  Other immunecells\n",
       "2      32  nucleus_boundaries        Hepatocytes\n",
       "3      33  nucleus_boundaries         Fibroblast\n",
       "4      34  nucleus_boundaries         Fibroblast"
      ]
     },
     "execution_count": 70,
     "metadata": {},
     "output_type": "execute_result"
    }
   ],
   "source": [
    "# Metadata for spots \n",
    "adata.obs.head()"
   ]
  },
  {
   "cell_type": "code",
   "execution_count": 71,
   "id": "d564c93c-3ca3-479b-a19c-f05872c9a33f",
   "metadata": {},
   "outputs": [
    {
     "name": "stdout",
     "output_type": "stream",
     "text": [
      "None\n"
     ]
    },
    {
     "data": {
      "text/html": [
       "<div>\n",
       "<style scoped>\n",
       "    .dataframe tbody tr th:only-of-type {\n",
       "        vertical-align: middle;\n",
       "    }\n",
       "\n",
       "    .dataframe tbody tr th {\n",
       "        vertical-align: top;\n",
       "    }\n",
       "\n",
       "    .dataframe thead th {\n",
       "        text-align: right;\n",
       "    }\n",
       "</style>\n",
       "<table border=\"1\" class=\"dataframe\">\n",
       "  <thead>\n",
       "    <tr style=\"text-align: right;\">\n",
       "      <th></th>\n",
       "      <th>mt</th>\n",
       "    </tr>\n",
       "  </thead>\n",
       "  <tbody>\n",
       "    <tr>\n",
       "      <th>Acta2</th>\n",
       "      <td>False</td>\n",
       "    </tr>\n",
       "    <tr>\n",
       "      <th>Adamtsl2</th>\n",
       "      <td>False</td>\n",
       "    </tr>\n",
       "    <tr>\n",
       "      <th>Adgre1</th>\n",
       "      <td>False</td>\n",
       "    </tr>\n",
       "    <tr>\n",
       "      <th>Adgrg6</th>\n",
       "      <td>False</td>\n",
       "    </tr>\n",
       "    <tr>\n",
       "      <th>Atp6v0d2</th>\n",
       "      <td>False</td>\n",
       "    </tr>\n",
       "  </tbody>\n",
       "</table>\n",
       "</div>"
      ],
      "text/plain": [
       "             mt\n",
       "Acta2     False\n",
       "Adamtsl2  False\n",
       "Adgre1    False\n",
       "Adgrg6    False\n",
       "Atp6v0d2  False"
      ]
     },
     "execution_count": 71,
     "metadata": {},
     "output_type": "execute_result"
    }
   ],
   "source": [
    "# Gene names\n",
    "\n",
    "print(adata.var_names_make_unique())\n",
    "adata.var[\"mt\"] = adata.var_names.str.startswith(\"MT-\")  \n",
    "adata.var.head()"
   ]
  },
  {
   "cell_type": "code",
   "execution_count": 72,
   "id": "c7b27e0b-5e1a-4209-8411-4d5d5d5999e6",
   "metadata": {},
   "outputs": [
    {
     "data": {
      "text/plain": [
       "array([[5869.93939394,  791.03030303],\n",
       "       [6390.48333333,  784.55      ],\n",
       "       [2069.52980132, 1036.39072848],\n",
       "       ...,\n",
       "       [ 761.78488372, 6106.40697674],\n",
       "       [ 386.25225225, 6105.82882883],\n",
       "       [4574.5       , 4095.        ]])"
      ]
     },
     "execution_count": 72,
     "metadata": {},
     "output_type": "execute_result"
    }
   ],
   "source": [
    "# Spatial coordinates dataframe  \n",
    "# spatial columns is the key column\n",
    "adata.obsm['spatial'] "
   ]
  },
  {
   "cell_type": "code",
   "execution_count": 73,
   "id": "9d607cc7-4de0-4d53-ab35-35c610e276a8",
   "metadata": {},
   "outputs": [
    {
     "data": {
      "text/plain": [
       "AnnData object with n_obs × n_vars = 99 × 3375\n",
       "    obs: 'mt'\n",
       "    var: 'cell_ID', 'fov_labels', 'annotation'\n",
       "    uns: 'annotation_colors', 'spatialdata_attrs'\n",
       "    varm: 'spatial'"
      ]
     },
     "execution_count": 73,
     "metadata": {},
     "output_type": "execute_result"
    }
   ],
   "source": [
    "adata.T"
   ]
  },
  {
   "cell_type": "markdown",
   "id": "2a3293e2-5247-4d6a-97e3-0190f4f3ece6",
   "metadata": {},
   "source": [
    "### **Tissue map**"
   ]
  },
  {
   "cell_type": "code",
   "execution_count": 74,
   "id": "f78e3e8a-e3bb-4b43-a3e0-174f36b8575d",
   "metadata": {},
   "outputs": [
    {
     "data": {
      "text/plain": [
       "array([[5869.93939394,  791.03030303],\n",
       "       [6390.48333333,  784.55      ],\n",
       "       [2069.52980132, 1036.39072848],\n",
       "       [3020.34862385,  837.01834862],\n",
       "       [5867.36879433,  833.62411348]])"
      ]
     },
     "execution_count": 74,
     "metadata": {},
     "output_type": "execute_result"
    }
   ],
   "source": [
    "# tissue coords (x, y)\n",
    "adata.obsm['spatial'][:5] "
   ]
  },
  {
   "cell_type": "code",
   "execution_count": 75,
   "id": "cedb747c-dc6e-405c-9ba6-29fee44ad462",
   "metadata": {},
   "outputs": [],
   "source": [
    "# sc.pl.spatial(adata, spot_size=1.3, color='Itgae')"
   ]
  },
  {
   "cell_type": "code",
   "execution_count": 76,
   "id": "d176313f-56fc-4a0f-a2de-1a2447ee2f8e",
   "metadata": {},
   "outputs": [
    {
     "ename": "IndexError",
     "evalue": "Positions outside range of features.",
     "output_type": "error",
     "traceback": [
      "\u001b[0;31m---------------------------------------------------------------------------\u001b[0m",
      "\u001b[0;31mIndexError\u001b[0m                                Traceback (most recent call last)",
      "\u001b[0;32m/var/folders/8k/rjb28bw55l17dn_00z8_17t80000gn/T/ipykernel_1791/2436562817.py\u001b[0m in \u001b[0;36m<module>\u001b[0;34m\u001b[0m\n\u001b[0;32m----> 1\u001b[0;31m \u001b[0msc\u001b[0m\u001b[0;34m.\u001b[0m\u001b[0mpp\u001b[0m\u001b[0;34m.\u001b[0m\u001b[0mcalculate_qc_metrics\u001b[0m\u001b[0;34m(\u001b[0m\u001b[0madata\u001b[0m\u001b[0;34m,\u001b[0m \u001b[0minplace\u001b[0m\u001b[0;34m=\u001b[0m\u001b[0;32mTrue\u001b[0m\u001b[0;34m)\u001b[0m\u001b[0;34m\u001b[0m\u001b[0;34m\u001b[0m\u001b[0m\n\u001b[0m",
      "\u001b[0;32m/opt/anaconda3/lib/python3.9/site-packages/scanpy/preprocessing/_qc.py\u001b[0m in \u001b[0;36mcalculate_qc_metrics\u001b[0;34m(adata, expr_type, var_type, qc_vars, percent_top, layer, use_raw, inplace, log1p, parallel)\u001b[0m\n\u001b[1;32m    314\u001b[0m         \u001b[0mqc_vars\u001b[0m \u001b[0;34m=\u001b[0m \u001b[0;34m[\u001b[0m\u001b[0mqc_vars\u001b[0m\u001b[0;34m]\u001b[0m\u001b[0;34m\u001b[0m\u001b[0;34m\u001b[0m\u001b[0m\n\u001b[1;32m    315\u001b[0m \u001b[0;34m\u001b[0m\u001b[0m\n\u001b[0;32m--> 316\u001b[0;31m     obs_metrics = describe_obs(\n\u001b[0m\u001b[1;32m    317\u001b[0m         \u001b[0madata\u001b[0m\u001b[0;34m,\u001b[0m\u001b[0;34m\u001b[0m\u001b[0;34m\u001b[0m\u001b[0m\n\u001b[1;32m    318\u001b[0m         \u001b[0mexpr_type\u001b[0m\u001b[0;34m=\u001b[0m\u001b[0mexpr_type\u001b[0m\u001b[0;34m,\u001b[0m\u001b[0;34m\u001b[0m\u001b[0;34m\u001b[0m\u001b[0m\n",
      "\u001b[0;32m/opt/anaconda3/lib/python3.9/site-packages/scanpy/preprocessing/_qc.py\u001b[0m in \u001b[0;36mdescribe_obs\u001b[0;34m(adata, expr_type, var_type, qc_vars, percent_top, layer, use_raw, log1p, inplace, X, parallel)\u001b[0m\n\u001b[1;32m    120\u001b[0m     \u001b[0;32mif\u001b[0m \u001b[0mpercent_top\u001b[0m\u001b[0;34m:\u001b[0m\u001b[0;34m\u001b[0m\u001b[0;34m\u001b[0m\u001b[0m\n\u001b[1;32m    121\u001b[0m         \u001b[0mpercent_top\u001b[0m \u001b[0;34m=\u001b[0m \u001b[0msorted\u001b[0m\u001b[0;34m(\u001b[0m\u001b[0mpercent_top\u001b[0m\u001b[0;34m)\u001b[0m\u001b[0;34m\u001b[0m\u001b[0;34m\u001b[0m\u001b[0m\n\u001b[0;32m--> 122\u001b[0;31m         \u001b[0mproportions\u001b[0m \u001b[0;34m=\u001b[0m \u001b[0mtop_segment_proportions\u001b[0m\u001b[0;34m(\u001b[0m\u001b[0mX\u001b[0m\u001b[0;34m,\u001b[0m \u001b[0mpercent_top\u001b[0m\u001b[0;34m)\u001b[0m\u001b[0;34m\u001b[0m\u001b[0;34m\u001b[0m\u001b[0m\n\u001b[0m\u001b[1;32m    123\u001b[0m         \u001b[0;32mfor\u001b[0m \u001b[0mi\u001b[0m\u001b[0;34m,\u001b[0m \u001b[0mn\u001b[0m \u001b[0;32min\u001b[0m \u001b[0menumerate\u001b[0m\u001b[0;34m(\u001b[0m\u001b[0mpercent_top\u001b[0m\u001b[0;34m)\u001b[0m\u001b[0;34m:\u001b[0m\u001b[0;34m\u001b[0m\u001b[0;34m\u001b[0m\u001b[0m\n\u001b[1;32m    124\u001b[0m             obs_metrics[f\"pct_{expr_type}_in_top_{n}_{var_type}\"] = (\n",
      "\u001b[0;32m/opt/anaconda3/lib/python3.9/site-packages/scanpy/preprocessing/_qc.py\u001b[0m in \u001b[0;36mtop_segment_proportions\u001b[0;34m(mtx, ns)\u001b[0m\n\u001b[1;32m    405\u001b[0m     \u001b[0;31m# Pretty much just does dispatch\u001b[0m\u001b[0;34m\u001b[0m\u001b[0;34m\u001b[0m\u001b[0m\n\u001b[1;32m    406\u001b[0m     \u001b[0;32mif\u001b[0m \u001b[0;32mnot\u001b[0m \u001b[0;34m(\u001b[0m\u001b[0mmax\u001b[0m\u001b[0;34m(\u001b[0m\u001b[0mns\u001b[0m\u001b[0;34m)\u001b[0m \u001b[0;34m<=\u001b[0m \u001b[0mmtx\u001b[0m\u001b[0;34m.\u001b[0m\u001b[0mshape\u001b[0m\u001b[0;34m[\u001b[0m\u001b[0;36m1\u001b[0m\u001b[0;34m]\u001b[0m \u001b[0;32mand\u001b[0m \u001b[0mmin\u001b[0m\u001b[0;34m(\u001b[0m\u001b[0mns\u001b[0m\u001b[0;34m)\u001b[0m \u001b[0;34m>\u001b[0m \u001b[0;36m0\u001b[0m\u001b[0;34m)\u001b[0m\u001b[0;34m:\u001b[0m\u001b[0;34m\u001b[0m\u001b[0;34m\u001b[0m\u001b[0m\n\u001b[0;32m--> 407\u001b[0;31m         \u001b[0;32mraise\u001b[0m \u001b[0mIndexError\u001b[0m\u001b[0;34m(\u001b[0m\u001b[0;34m\"Positions outside range of features.\"\u001b[0m\u001b[0;34m)\u001b[0m\u001b[0;34m\u001b[0m\u001b[0;34m\u001b[0m\u001b[0m\n\u001b[0m\u001b[1;32m    408\u001b[0m     \u001b[0;32mif\u001b[0m \u001b[0missparse\u001b[0m\u001b[0;34m(\u001b[0m\u001b[0mmtx\u001b[0m\u001b[0;34m)\u001b[0m\u001b[0;34m:\u001b[0m\u001b[0;34m\u001b[0m\u001b[0;34m\u001b[0m\u001b[0m\n\u001b[1;32m    409\u001b[0m         \u001b[0;32mif\u001b[0m \u001b[0;32mnot\u001b[0m \u001b[0misspmatrix_csr\u001b[0m\u001b[0;34m(\u001b[0m\u001b[0mmtx\u001b[0m\u001b[0;34m)\u001b[0m\u001b[0;34m:\u001b[0m\u001b[0;34m\u001b[0m\u001b[0;34m\u001b[0m\u001b[0m\n",
      "\u001b[0;31mIndexError\u001b[0m: Positions outside range of features."
     ]
    }
   ],
   "source": [
    "sc.pp.calculate_qc_metrics(adata, inplace=True)"
   ]
  },
  {
   "cell_type": "code",
   "execution_count": null,
   "id": "f0b4921b-1ac5-4703-9e64-4c79da179ed7",
   "metadata": {},
   "outputs": [],
   "source": [
    "# TODO: change dataset and try again! --> sth wrong with this a!"
   ]
  }
 ],
 "metadata": {
  "kernelspec": {
   "display_name": "Python 3 (ipykernel)",
   "language": "python",
   "name": "python3"
  },
  "language_info": {
   "codemirror_mode": {
    "name": "ipython",
    "version": 3
   },
   "file_extension": ".py",
   "mimetype": "text/x-python",
   "name": "python",
   "nbconvert_exporter": "python",
   "pygments_lexer": "ipython3",
   "version": "3.9.13"
  }
 },
 "nbformat": 4,
 "nbformat_minor": 5
}
