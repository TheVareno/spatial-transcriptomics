{
 "cells": [
  {
   "cell_type": "markdown",
   "id": "3961e387-f664-4a54-ae0a-45206f9e2175",
   "metadata": {},
   "source": [
    "## Analysis of Spatial Transcriptomics \n",
    "- Author: Hadi Vareno\n",
    "- E-mail: hadivareno@gmail.com\n",
    "- Github: TheVareno"
   ]
  },
  {
   "cell_type": "code",
   "execution_count": 2,
   "id": "7bd08c22-5fea-4ef7-902a-4b631cd994de",
   "metadata": {},
   "outputs": [],
   "source": [
    "# load packages \n",
    "import scanpy as sc\n",
    "\n",
    "import pandas as pd\n",
    "import matplotlib.pyplot as plt\n",
    "import seaborn as sns \n",
    "sns.set_style('darkgrid'); "
   ]
  },
  {
   "cell_type": "code",
   "execution_count": null,
   "id": "93135819-d98d-4ebc-ad93-8178b4049cf9",
   "metadata": {},
   "outputs": [],
   "source": []
  },
  {
   "cell_type": "code",
   "execution_count": null,
   "id": "a29960fd-c776-4fc9-abb9-6a8eda6f9c75",
   "metadata": {},
   "outputs": [],
   "source": []
  }
 ],
 "metadata": {
  "kernelspec": {
   "display_name": "Python 3 (ipykernel)",
   "language": "python",
   "name": "python3"
  },
  "language_info": {
   "codemirror_mode": {
    "name": "ipython",
    "version": 3
   },
   "file_extension": ".py",
   "mimetype": "text/x-python",
   "name": "python",
   "nbconvert_exporter": "python",
   "pygments_lexer": "ipython3",
   "version": "3.13.5"
  }
 },
 "nbformat": 4,
 "nbformat_minor": 5
}
